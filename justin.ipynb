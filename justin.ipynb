{
 "cells": [
  {
   "cell_type": "code",
   "execution_count": 1,
   "metadata": {},
   "outputs": [],
   "source": [
    "#import dependencies\n",
    "import os\n",
    "import requests\n",
    "import json \n",
    "from dotenv import load_dotenv\n",
    "load_dotenv()\n",
    "from binance.client import Client\n",
    "\n",
    "#api keys\n",
    "API_KEY = os.getenv(\"BINANCE_API_KEY\")\n",
    "\n",
    "API_SECRET = os.getenv(\"BINANCE_SECRET_KEY\")\n",
    "#create api object\n",
    "client = Client(API_KEY,API_SECRET, tld='us')"
   ]
  },
  {
   "cell_type": "code",
   "execution_count": 2,
   "metadata": {},
   "outputs": [],
   "source": [
    "#get eth daily candle from 2016-2022\n",
    "candles = client.get_historical_klines(\"ETHUSDT\", Client.KLINE_INTERVAL_1DAY, \"1 Dec, 2016\", \"1 Dec, 2022\")"
   ]
  },
  {
   "cell_type": "code",
   "execution_count": 4,
   "metadata": {},
   "outputs": [],
   "source": [
    "#set list to hold candle data\n",
    "open = []\n",
    "high = []\n",
    "low = []\n",
    "close = []\n",
    "volume = []\n",
    "time=[]"
   ]
  },
  {
   "cell_type": "code",
   "execution_count": 5,
   "metadata": {},
   "outputs": [],
   "source": [
    "#for loop that adds data to lists above\n",
    "for i in range(len(candles)):\n",
    "    open.append(candles[i][1])\n",
    "    high.append(candles[i][2])\n",
    "    low.append(candles[i][3])\n",
    "    close.append(candles[i][4])\n",
    "    close.append(candles[i][5])\n",
    "    time.append(candles[i][6])"
   ]
  },
  {
   "cell_type": "code",
   "execution_count": 6,
   "metadata": {},
   "outputs": [],
   "source": [
    "import pandas as pd\n",
    "\n",
    "candle_df_open = pd.DataFrame(open, columns= ['open'])\n",
    "candle_df_high = pd.DataFrame(high, columns= ['high'])\n",
    "candle_df_low = pd.DataFrame(high, columns= ['low'])\n",
    "candle_df_close = pd.DataFrame(high, columns= ['close'])\n",
    "candle_df_volume = pd.DataFrame(high, columns= ['volume'])\n",
    "candle_df_time = pd.DataFrame(time, columns= ['time'])"
   ]
  },
  {
   "cell_type": "code",
   "execution_count": 7,
   "metadata": {},
   "outputs": [],
   "source": [
    "candle_df = pd.concat([candle_df_open,candle_df_high,candle_df_low,candle_df_close,candle_df_volume, candle_df_time], axis =1)"
   ]
  },
  {
   "cell_type": "code",
   "execution_count": 8,
   "metadata": {},
   "outputs": [
    {
     "data": {
      "text/html": [
       "<div>\n",
       "<style scoped>\n",
       "    .dataframe tbody tr th:only-of-type {\n",
       "        vertical-align: middle;\n",
       "    }\n",
       "\n",
       "    .dataframe tbody tr th {\n",
       "        vertical-align: top;\n",
       "    }\n",
       "\n",
       "    .dataframe thead th {\n",
       "        text-align: right;\n",
       "    }\n",
       "</style>\n",
       "<table border=\"1\" class=\"dataframe\">\n",
       "  <thead>\n",
       "    <tr style=\"text-align: right;\">\n",
       "      <th></th>\n",
       "      <th>open</th>\n",
       "      <th>high</th>\n",
       "      <th>low</th>\n",
       "      <th>close</th>\n",
       "      <th>volume</th>\n",
       "      <th>time</th>\n",
       "    </tr>\n",
       "  </thead>\n",
       "  <tbody>\n",
       "    <tr>\n",
       "      <th>0</th>\n",
       "      <td>209.55000000</td>\n",
       "      <td>209.55000000</td>\n",
       "      <td>209.55000000</td>\n",
       "      <td>209.55000000</td>\n",
       "      <td>209.55000000</td>\n",
       "      <td>1569283199999</td>\n",
       "    </tr>\n",
       "    <tr>\n",
       "      <th>1</th>\n",
       "      <td>195.50000000</td>\n",
       "      <td>195.50000000</td>\n",
       "      <td>195.50000000</td>\n",
       "      <td>195.50000000</td>\n",
       "      <td>195.50000000</td>\n",
       "      <td>1569369599999</td>\n",
       "    </tr>\n",
       "    <tr>\n",
       "      <th>2</th>\n",
       "      <td>166.84000000</td>\n",
       "      <td>174.15000000</td>\n",
       "      <td>174.15000000</td>\n",
       "      <td>174.15000000</td>\n",
       "      <td>174.15000000</td>\n",
       "      <td>1569455999999</td>\n",
       "    </tr>\n",
       "    <tr>\n",
       "      <th>3</th>\n",
       "      <td>169.95000000</td>\n",
       "      <td>170.77000000</td>\n",
       "      <td>170.77000000</td>\n",
       "      <td>170.77000000</td>\n",
       "      <td>170.77000000</td>\n",
       "      <td>1569542399999</td>\n",
       "    </tr>\n",
       "    <tr>\n",
       "      <th>4</th>\n",
       "      <td>166.34000000</td>\n",
       "      <td>175.54000000</td>\n",
       "      <td>175.54000000</td>\n",
       "      <td>175.54000000</td>\n",
       "      <td>175.54000000</td>\n",
       "      <td>1569628799999</td>\n",
       "    </tr>\n",
       "  </tbody>\n",
       "</table>\n",
       "</div>"
      ],
      "text/plain": [
       "           open          high           low         close        volume  \\\n",
       "0  209.55000000  209.55000000  209.55000000  209.55000000  209.55000000   \n",
       "1  195.50000000  195.50000000  195.50000000  195.50000000  195.50000000   \n",
       "2  166.84000000  174.15000000  174.15000000  174.15000000  174.15000000   \n",
       "3  169.95000000  170.77000000  170.77000000  170.77000000  170.77000000   \n",
       "4  166.34000000  175.54000000  175.54000000  175.54000000  175.54000000   \n",
       "\n",
       "            time  \n",
       "0  1569283199999  \n",
       "1  1569369599999  \n",
       "2  1569455999999  \n",
       "3  1569542399999  \n",
       "4  1569628799999  "
      ]
     },
     "execution_count": 8,
     "metadata": {},
     "output_type": "execute_result"
    }
   ],
   "source": [
    "candle_df.head()"
   ]
  },
  {
   "cell_type": "code",
   "execution_count": 10,
   "metadata": {},
   "outputs": [
    {
     "data": {
      "text/plain": [
       "0      2019-09-23 23:59:59.999\n",
       "1      2019-09-24 23:59:59.999\n",
       "2      2019-09-25 23:59:59.999\n",
       "3      2019-09-26 23:59:59.999\n",
       "4      2019-09-27 23:59:59.999\n",
       "                 ...          \n",
       "1161   2022-11-27 23:59:59.999\n",
       "1162   2022-11-28 23:59:59.999\n",
       "1163   2022-11-29 23:59:59.999\n",
       "1164   2022-11-30 23:59:59.999\n",
       "1165   2022-12-01 23:59:59.999\n",
       "Name: time, Length: 1166, dtype: datetime64[ns]"
      ]
     },
     "execution_count": 10,
     "metadata": {},
     "output_type": "execute_result"
    }
   ],
   "source": [
    "candle_df['time'] = pd.to_datetime(candle_df['time'], unit='ms')\n",
    "\n",
    "candle_df['time']"
   ]
  },
  {
   "cell_type": "code",
   "execution_count": 11,
   "metadata": {},
   "outputs": [],
   "source": [
    "candle_df = candle_df.set_index('time')\n"
   ]
  },
  {
   "cell_type": "code",
   "execution_count": 12,
   "metadata": {},
   "outputs": [
    {
     "data": {
      "text/html": [
       "<div>\n",
       "<style scoped>\n",
       "    .dataframe tbody tr th:only-of-type {\n",
       "        vertical-align: middle;\n",
       "    }\n",
       "\n",
       "    .dataframe tbody tr th {\n",
       "        vertical-align: top;\n",
       "    }\n",
       "\n",
       "    .dataframe thead th {\n",
       "        text-align: right;\n",
       "    }\n",
       "</style>\n",
       "<table border=\"1\" class=\"dataframe\">\n",
       "  <thead>\n",
       "    <tr style=\"text-align: right;\">\n",
       "      <th></th>\n",
       "      <th>open</th>\n",
       "      <th>high</th>\n",
       "      <th>low</th>\n",
       "      <th>close</th>\n",
       "      <th>volume</th>\n",
       "    </tr>\n",
       "    <tr>\n",
       "      <th>time</th>\n",
       "      <th></th>\n",
       "      <th></th>\n",
       "      <th></th>\n",
       "      <th></th>\n",
       "      <th></th>\n",
       "    </tr>\n",
       "  </thead>\n",
       "  <tbody>\n",
       "    <tr>\n",
       "      <th>2019-09-23 23:59:59.999</th>\n",
       "      <td>209.55000000</td>\n",
       "      <td>209.55000000</td>\n",
       "      <td>209.55000000</td>\n",
       "      <td>209.55000000</td>\n",
       "      <td>209.55000000</td>\n",
       "    </tr>\n",
       "    <tr>\n",
       "      <th>2019-09-24 23:59:59.999</th>\n",
       "      <td>195.50000000</td>\n",
       "      <td>195.50000000</td>\n",
       "      <td>195.50000000</td>\n",
       "      <td>195.50000000</td>\n",
       "      <td>195.50000000</td>\n",
       "    </tr>\n",
       "    <tr>\n",
       "      <th>2019-09-25 23:59:59.999</th>\n",
       "      <td>166.84000000</td>\n",
       "      <td>174.15000000</td>\n",
       "      <td>174.15000000</td>\n",
       "      <td>174.15000000</td>\n",
       "      <td>174.15000000</td>\n",
       "    </tr>\n",
       "    <tr>\n",
       "      <th>2019-09-26 23:59:59.999</th>\n",
       "      <td>169.95000000</td>\n",
       "      <td>170.77000000</td>\n",
       "      <td>170.77000000</td>\n",
       "      <td>170.77000000</td>\n",
       "      <td>170.77000000</td>\n",
       "    </tr>\n",
       "    <tr>\n",
       "      <th>2019-09-27 23:59:59.999</th>\n",
       "      <td>166.34000000</td>\n",
       "      <td>175.54000000</td>\n",
       "      <td>175.54000000</td>\n",
       "      <td>175.54000000</td>\n",
       "      <td>175.54000000</td>\n",
       "    </tr>\n",
       "  </tbody>\n",
       "</table>\n",
       "</div>"
      ],
      "text/plain": [
       "                                 open          high           low  \\\n",
       "time                                                                \n",
       "2019-09-23 23:59:59.999  209.55000000  209.55000000  209.55000000   \n",
       "2019-09-24 23:59:59.999  195.50000000  195.50000000  195.50000000   \n",
       "2019-09-25 23:59:59.999  166.84000000  174.15000000  174.15000000   \n",
       "2019-09-26 23:59:59.999  169.95000000  170.77000000  170.77000000   \n",
       "2019-09-27 23:59:59.999  166.34000000  175.54000000  175.54000000   \n",
       "\n",
       "                                close        volume  \n",
       "time                                                 \n",
       "2019-09-23 23:59:59.999  209.55000000  209.55000000  \n",
       "2019-09-24 23:59:59.999  195.50000000  195.50000000  \n",
       "2019-09-25 23:59:59.999  174.15000000  174.15000000  \n",
       "2019-09-26 23:59:59.999  170.77000000  170.77000000  \n",
       "2019-09-27 23:59:59.999  175.54000000  175.54000000  "
      ]
     },
     "execution_count": 12,
     "metadata": {},
     "output_type": "execute_result"
    }
   ],
   "source": [
    "candle_df.head()"
   ]
  },
  {
   "cell_type": "code",
   "execution_count": 23,
   "metadata": {},
   "outputs": [],
   "source": [
    "candle_df.to_csv('C:/Users/Justin/Rutgers/project-2/Resources/eth.csv')"
   ]
  }
 ],
 "metadata": {
  "kernelspec": {
   "display_name": "dev",
   "language": "python",
   "name": "python3"
  },
  "language_info": {
   "codemirror_mode": {
    "name": "ipython",
    "version": 3
   },
   "file_extension": ".py",
   "mimetype": "text/x-python",
   "name": "python",
   "nbconvert_exporter": "python",
   "pygments_lexer": "ipython3",
   "version": "3.7.13"
  },
  "orig_nbformat": 4,
  "vscode": {
   "interpreter": {
    "hash": "b690e6882326b5178da96a43489ad4a3a410df96195acf222b6fc0fcea8e80e0"
   }
  }
 },
 "nbformat": 4,
 "nbformat_minor": 2
}
